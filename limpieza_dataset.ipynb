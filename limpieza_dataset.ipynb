{
  "nbformat": 4,
  "nbformat_minor": 0,
  "metadata": {
    "colab": {
      "provenance": [],
      "collapsed_sections": [
        "_OyVtSJ696wZ"
      ],
      "include_colab_link": true
    },
    "kernelspec": {
      "name": "python3",
      "display_name": "Python 3"
    },
    "language_info": {
      "name": "python"
    }
  },
  "cells": [
    {
      "cell_type": "markdown",
      "metadata": {
        "id": "view-in-github",
        "colab_type": "text"
      },
      "source": [
        "<a href=\"https://colab.research.google.com/github/MiguelSix/datasets/blob/main/limpieza_dataset.ipynb\" target=\"_parent\"><img src=\"https://colab.research.google.com/assets/colab-badge.svg\" alt=\"Open In Colab\"/></a>"
      ]
    },
    {
      "cell_type": "markdown",
      "source": [
        "# CONFIGURACION DE RUTA Y DATASET\n"
      ],
      "metadata": {
        "id": "qRypkUyGYI2V"
      }
    },
    {
      "cell_type": "code",
      "execution_count": null,
      "metadata": {
        "colab": {
          "base_uri": "https://localhost:8080/"
        },
        "id": "0mNX5gtkYBwC",
        "outputId": "b064bf7f-c15c-485c-e396-f734d7404281"
      },
      "outputs": [
        {
          "output_type": "stream",
          "name": "stdout",
          "text": [
            "Mounted at /content/drive\n",
            "/usr/local/lib/python3.10/dist-packages/gdown/__main__.py:140: FutureWarning: Option `--id` was deprecated in version 4.3.1 and will be removed in 5.0. You don't need to pass it anymore to use a file ID.\n",
            "  warnings.warn(\n",
            "Retrieving folder contents\n",
            "Processing file 1FPWs9Wd4Z1G2KDeA3N46luxOFKwfJ6He ASEGURADO.csv\n",
            "Processing file 1c7eg6e0Q8bL1U6pjrNOjiL9FsVPAN1n6 Aseguradora\n",
            "Processing file 10puKqkdp7nmBa3DJkbgo6lyNILIfPQhy Dataset.csv\n",
            "Processing file 1v9xwPresWaRaZ9X-o-I-ohxYHuobDtWLk44Nszn3Qo4 Limpieza de dataset\n",
            "Retrieving folder contents completed\n",
            "Building directory structure\n",
            "Building directory structure completed\n",
            "Downloading...\n",
            "From (original): https://drive.google.com/uc?id=1FPWs9Wd4Z1G2KDeA3N46luxOFKwfJ6He\n",
            "From (redirected): https://drive.google.com/uc?id=1FPWs9Wd4Z1G2KDeA3N46luxOFKwfJ6He&confirm=t&uuid=fda7559f-588b-4b74-9d7d-5081703edb9f\n",
            "To: /content/Qualitas/ASEGURADO.csv\n",
            "100% 633M/633M [00:04<00:00, 138MB/s]\n",
            "Downloading...\n",
            "From: https://drive.google.com/uc?id=1c7eg6e0Q8bL1U6pjrNOjiL9FsVPAN1n6\n",
            "To: /content/Qualitas/Aseguradora\n",
            "100% 5.01k/5.01k [00:00<00:00, 15.1MB/s]\n",
            "Downloading...\n",
            "From (original): https://drive.google.com/uc?id=10puKqkdp7nmBa3DJkbgo6lyNILIfPQhy\n",
            "From (redirected): https://drive.google.com/uc?id=10puKqkdp7nmBa3DJkbgo6lyNILIfPQhy&confirm=t&uuid=2d8935f2-e85b-4c05-bbca-48933be1f3e5\n",
            "To: /content/Qualitas/Dataset.csv\n",
            "100% 531M/531M [00:02<00:00, 232MB/s]\n",
            "Downloading...\n",
            "From (original): https://drive.google.com/uc?id=1v9xwPresWaRaZ9X-o-I-ohxYHuobDtWLk44Nszn3Qo4\n",
            "From (redirected): https://docs.google.com/document/d/1v9xwPresWaRaZ9X-o-I-ohxYHuobDtWLk44Nszn3Qo4/export?format=docx\n",
            "To: /content/Qualitas/Limpieza de dataset\n",
            "8.90kB [00:00, 2.88MB/s]\n",
            "Download completed\n"
          ]
        }
      ],
      "source": [
        "#MONTAR DRIVE COMPARTIDO\n",
        "\n",
        "from google.colab import drive\n",
        "import os\n",
        "\n",
        "drive.mount('/content/drive')\n",
        "\n",
        "shared_folder_id = \"1ROZfrhsFxeazxoewZVlCydXeMTqQbdLw\"\n",
        "\n",
        "!gdown --folder --id {shared_folder_id}\n",
        "\n",
        "#!ls -la"
      ]
    },
    {
      "cell_type": "code",
      "source": [
        "#RUTA/CARGAR ARCHIVO\n",
        "import pandas as pd\n",
        "\n",
        "file_path = './Qualitas/ASEGURADO.csv'\n",
        "\n",
        "df_principal = pd.read_csv(file_path)\n",
        "print(df_principal.head())"
      ],
      "metadata": {
        "colab": {
          "base_uri": "https://localhost:8080/"
        },
        "id": "YFNpQoZHe_NH",
        "outputId": "43608aed-a017-4438-d683-ad18824c3892"
      },
      "execution_count": null,
      "outputs": [
        {
          "output_type": "stream",
          "name": "stdout",
          "text": [
            "                                  ASEG              SERIE    TELEFONO  \\\n",
            "0              REY DAVID BELMAN LOZANO  9BWKL45U6RP023988  4444191129   \n",
            "1                  DAVILA MORENO CELSO  3G1TA5AF7HL120346  5560767580   \n",
            "2        GARCIA GONZALEZ JESUS EDUARDO  1C4GJ25R23B244434  4611366507   \n",
            "3  SD INDEVAL INSTITUCION PARA EL DEPO  JM3KKKHC2R1166032         NaN   \n",
            "4           MARIA SEDELIA VARGAS ROSAS  MB2C22AC8JM241475  7531117734   \n",
            "\n",
            "           DIR_ASEG_CALLE             COLONIA  \\\n",
            "0      CIRCUITO JACARANDA           EL ZAPOTE   \n",
            "1  1RA CDA FERROCARRIL 12  SAN JUAN TEMAMATLA   \n",
            "2    PROLONGACION CONSEJO             METEPEC   \n",
            "3     PASEO DE LA REFORMA          CUAUHTEMOC   \n",
            "4       LOC EL PUERTECITO           EL REPARO   \n",
            "\n",
            "                                   POBL            ESTADO       CP  \\\n",
            "0       035 SOLEDAD DE GRACIANO SANCHEZ   SAN LUIS POTOSI  78430.0   \n",
            "1                         083 TEMAMATLA  ESTADO DE MEXICO  56650.0   \n",
            "2                           019 ATLIXCO            PUEBLA  74360.0   \n",
            "3                        015 CUAUHTEMOC  CIUDAD DE MEXICO   6500.0   \n",
            "4  068 LA UNION DE ISIDORO MONTES DE OC          GUERRERO  40803.0   \n",
            "\n",
            "                           CORREO  \\\n",
            "0              SOPORTE@ODESSA.COM   \n",
            "1             CELSO0605@GMAIL.COM   \n",
            "2  JESUSEDUARDOGARCIA10@GMAIL.COM   \n",
            "3                               .   \n",
            "4                             NaN   \n",
            "\n",
            "                                              NOMBRE  ... NUM_INTERNO  \\\n",
            "0                                          REY DAVID  ...         NaN   \n",
            "1                                              CELSO  ...         NaN   \n",
            "2                                      JESUS EDUARDO  ...         NaN   \n",
            "3  SD INDEVAL INSTITUCION PARA EL DEPOSITO DE VALORE  ...         PIS   \n",
            "4                                      MARIA SEDELIA  ...         NaN   \n",
            "\n",
            "  NUM_EXTERNO       RFC_ASEG RFC_CONTRATANTE CP_CONTRATANTE DOMICILIO_FISCAL  \\\n",
            "0         216  BELR771229I82             NaN            NaN              NaN   \n",
            "1           .     DAMC560506             NaN            NaN              NaN   \n",
            "2           1     GAGJ721128             NaN            NaN              NaN   \n",
            "3         255   SDI870821SXA             NaN            NaN              NaN   \n",
            "4           1     VARS630604             NaN            NaN              NaN   \n",
            "\n",
            "   BENEF_PREFERENTE ASEGURADO TIPO_PERSONA  FEC_NACIMIENTO  \n",
            "0               NaN  29588257     1 Fisica        29/12/77  \n",
            "1               NaN  23005894     1 Fisica        06/05/56  \n",
            "2               NaN  26706560     1 Fisica        28/11/72  \n",
            "3               NaN  24785634      2 Moral        01/01/90  \n",
            "4               NaN  29853119     1 Fisica        04/06/63  \n",
            "\n",
            "[5 rows x 22 columns]\n"
          ]
        }
      ]
    },
    {
      "cell_type": "markdown",
      "source": [
        "# ***CODIGOS DE LIMPIEZA DE MIGUEL***"
      ],
      "metadata": {
        "id": "lfDVpqh4ggrX"
      }
    },
    {
      "cell_type": "code",
      "source": [
        "import unicodedata\n",
        "import re"
      ],
      "metadata": {
        "id": "EzbuIrcKglu1"
      },
      "execution_count": null,
      "outputs": []
    },
    {
      "cell_type": "markdown",
      "source": [
        "##***Columna del número de serie (SERIE)***"
      ],
      "metadata": {
        "id": "_OyVtSJ696wZ"
      }
    },
    {
      "cell_type": "markdown",
      "source": [
        "**Función para revisar la columna y checar los registros erroneos**"
      ],
      "metadata": {
        "id": "BleFLaH4-SQ5"
      }
    },
    {
      "cell_type": "code",
      "source": [
        "def analizar_columna_serie(df, columna='SERIE'):\n",
        "\n",
        "    def _verificar_serie(valor):\n",
        "        # Manejar valores nulos o vacíos\n",
        "        if pd.isna(valor) or valor == '':\n",
        "            return {\n",
        "                'original': valor,\n",
        "                'valido': True,\n",
        "                'problemas': []\n",
        "            }\n",
        "\n",
        "        # Convertir a string para asegurar consistencia\n",
        "        valor = str(valor)\n",
        "\n",
        "        problemas = []\n",
        "\n",
        "        # Verificar espacios\n",
        "        if valor != valor.strip():\n",
        "            problemas.append('Espacios al inicio/final')\n",
        "\n",
        "        # Verificar espacios entre caracteres\n",
        "        if ' ' in valor:\n",
        "            problemas.append('Espacios entre caracteres')\n",
        "\n",
        "        # Verificar mayúsculas\n",
        "        if valor != valor.upper():\n",
        "            problemas.append('No está en mayúsculas')\n",
        "\n",
        "        # Verificar caracteres especiales y acentos\n",
        "        # Primero, remover acentos\n",
        "        valor_sin_acentos = ''.join(\n",
        "            c for c in unicodedata.normalize('NFD', valor)\n",
        "            if unicodedata.category(c) != 'Mn'\n",
        "        )\n",
        "\n",
        "        # Verificar solo alfanuméricos\n",
        "        if not re.match(r'^[A-Z0-9]+$', valor_sin_acentos):\n",
        "            problemas.append('Contiene caracteres especiales o acentos')\n",
        "\n",
        "        return {\n",
        "            'original': valor,\n",
        "            'valido': len(problemas) == 0,\n",
        "            'problemas': problemas\n",
        "        }\n",
        "\n",
        "    # Aplicar análisis a toda la columna\n",
        "    analisis = df[columna].apply(_verificar_serie)\n",
        "\n",
        "    # Resumen estadístico\n",
        "    resumen = {\n",
        "        'total_registros': len(df),\n",
        "        'registros_validos': sum(1 for x in analisis if x['valido']),\n",
        "        'registros_invalidos': sum(1 for x in analisis if not x['valido']),\n",
        "        'tipos_de_problemas': {}\n",
        "    }\n",
        "\n",
        "    # Contar tipos de problemas\n",
        "    for item in analisis:\n",
        "        if not item['valido']:\n",
        "            for problema in item['problemas']:\n",
        "                resumen['tipos_de_problemas'][problema] = resumen['tipos_de_problemas'].get(problema, 0) + 1\n",
        "\n",
        "    return {\n",
        "        'resumen': resumen,\n",
        "        'detalles': analisis\n",
        "    }"
      ],
      "metadata": {
        "id": "bszkbGW3-D0l"
      },
      "execution_count": null,
      "outputs": []
    },
    {
      "cell_type": "markdown",
      "source": [
        "**Función para limpiar la columna SERIE (Corregir los errores)**"
      ],
      "metadata": {
        "id": "WvirKBaW-qv0"
      }
    },
    {
      "cell_type": "code",
      "source": [
        "def limpiar_columna_serie(df, columna='SERIE'):\n",
        "\n",
        "    def _limpiar_serie(valor):\n",
        "        # Manejar valores nulos o vacíos\n",
        "        if pd.isna(valor) or valor == '':\n",
        "            return ''\n",
        "\n",
        "        # Convertir a string\n",
        "        valor = str(valor)\n",
        "\n",
        "        # Eliminar acentos\n",
        "        valor_sin_acentos = ''.join(\n",
        "            c for c in unicodedata.normalize('NFD', valor)\n",
        "            if unicodedata.category(c) != 'Mn'\n",
        "        )\n",
        "\n",
        "        # Convertir a mayúsculas y eliminar espacios\n",
        "        valor_limpio = valor_sin_acentos.upper().replace(' ', '')\n",
        "\n",
        "        # Verificar que solo contenga letras y números\n",
        "        if re.match(r'^[A-Z0-9]+$', valor_limpio):\n",
        "            return valor_limpio\n",
        "\n",
        "        # Si no cumple, devolver cadena vacía\n",
        "        return ''\n",
        "\n",
        "    # Crear una copia del DataFrame para no modificar el original\n",
        "    df_limpio = df.copy()\n",
        "\n",
        "    # Aplicar limpieza\n",
        "    df_limpio[columna] = df_limpio[columna].apply(_limpiar_serie)\n",
        "\n",
        "    return df_limpio"
      ],
      "metadata": {
        "id": "hgpNf6tl-v52"
      },
      "execution_count": null,
      "outputs": []
    },
    {
      "cell_type": "markdown",
      "source": [
        "##***Columna del número de telefono (TELEFONO)***"
      ],
      "metadata": {
        "id": "6S83iMhY_AOv"
      }
    },
    {
      "cell_type": "markdown",
      "source": [
        "**Función para analizar la columna**"
      ],
      "metadata": {
        "id": "AouQbniUATEU"
      }
    },
    {
      "cell_type": "code",
      "source": [
        "def analizar_telefonos(df, columna='TELEFONO'):\n",
        "    # Convertir a string y crear copia para análisis\n",
        "    serie = df[columna].astype(str)\n",
        "    total_registros = len(serie)\n",
        "\n",
        "    # Inicializar contadores\n",
        "    analisis = {\n",
        "        'total_registros': total_registros,\n",
        "        'registros_vacios': 0,\n",
        "        'mas_10_digitos': 0,\n",
        "        'tiene_simbolos': 0,\n",
        "        'tiene_espacios_final': 0,\n",
        "        'tiene_letras': 0,\n",
        "        'ejemplos_problematicos': []\n",
        "    }\n",
        "\n",
        "    patrones = {\n",
        "        'mas_10_digitos': [],\n",
        "        'simbolos': [],\n",
        "        'espacios_final': [],\n",
        "        'letras': []\n",
        "    }\n",
        "\n",
        "    for valor in serie:\n",
        "        # Saltear valores nulos o 'nan'\n",
        "        if pd.isna(valor) or valor == 'nan':\n",
        "            analisis['registros_vacios'] += 1\n",
        "            continue\n",
        "\n",
        "        # Verificar longitud de dígitos\n",
        "        digitos = re.findall(r'\\d', valor)\n",
        "        if len(digitos) > 10:\n",
        "            analisis['mas_10_digitos'] += 1\n",
        "            if len(patrones['mas_10_digitos']) < 3:\n",
        "                patrones['mas_10_digitos'].append(valor)\n",
        "\n",
        "        # Verificar símbolos\n",
        "        if re.search(r'[+()/-]', valor):\n",
        "            analisis['tiene_simbolos'] += 1\n",
        "            if len(patrones['simbolos']) < 3:\n",
        "                patrones['simbolos'].append(valor)\n",
        "\n",
        "        # Verificar espacios al final\n",
        "        if valor.endswith(' '):\n",
        "            analisis['tiene_espacios_final'] += 1\n",
        "            if len(patrones['espacios_final']) < 3:\n",
        "                patrones['espacios_final'].append(valor)\n",
        "\n",
        "        # Verificar letras\n",
        "        if re.search(r'[a-zA-Z]', valor):\n",
        "            analisis['tiene_letras'] += 1\n",
        "            if len(patrones['letras']) < 3:\n",
        "                patrones['letras'].append(valor)\n",
        "\n",
        "    # Calcular porcentajes\n",
        "    for key in ['registros_vacios', 'mas_10_digitos', 'tiene_simbolos', 'tiene_espacios_final', 'tiene_letras']:\n",
        "        porcentaje = (analisis[key] / total_registros) * 100\n",
        "        print(f\"{key}: {analisis[key]} registros ({porcentaje:.2f}%)\")\n",
        "\n",
        "    print(\"\\nEjemplos de registros problemáticos:\")\n",
        "    for tipo, ejemplos in patrones.items():\n",
        "        if ejemplos:\n",
        "            print(f\"\\n{tipo}:\")\n",
        "            for ejemplo in ejemplos:\n",
        "                print(f\"  - {ejemplo}\")"
      ],
      "metadata": {
        "id": "uJX9hTTIAXTi"
      },
      "execution_count": null,
      "outputs": []
    },
    {
      "cell_type": "markdown",
      "source": [
        "**Funcion para limpiar la columna (corregir errores)**"
      ],
      "metadata": {
        "id": "QXBw0rERCKdD"
      }
    },
    {
      "cell_type": "code",
      "source": [
        "def limpiar_solo_numericos(df, columna='TELEFONO'):\n",
        "    # Convertir a string\n",
        "    df[columna] = df[columna].astype(str)\n",
        "\n",
        "    # Función para limpiar cada valor\n",
        "    def limpiar_valor(valor):\n",
        "        if pd.isna(valor) or valor == 'nan':\n",
        "            return ''\n",
        "        # Extraer solo los números usando expresiones regulares\n",
        "        numeros = re.sub(r'[^0-9]', '', valor)\n",
        "        return numeros\n",
        "\n",
        "    # Aplicar la limpieza\n",
        "    df[columna] = df[columna].apply(limpiar_valor)\n",
        "\n",
        "    # Verificar los resultados\n",
        "    muestra = df[columna].head(10)\n",
        "    print(\"\\nMuestra de los primeros 10 registros limpiados:\")\n",
        "    for idx, valor in muestra.items():\n",
        "        print(f\"Original: {data[columna][idx]} -> Limpio: {valor}\")\n",
        "\n",
        "    return df"
      ],
      "metadata": {
        "id": "glq-c-1xCOyD"
      },
      "execution_count": null,
      "outputs": []
    },
    {
      "cell_type": "markdown",
      "source": [
        "# CODIGOS DE LIMPIEZA\n",
        "CARLOS"
      ],
      "metadata": {
        "id": "-1gKQUvxjH1u"
      }
    },
    {
      "cell_type": "code",
      "source": [
        "##CARLOS"
      ],
      "metadata": {
        "id": "fyN0h6jIgnuV"
      },
      "execution_count": null,
      "outputs": []
    },
    {
      "cell_type": "markdown",
      "source": [],
      "metadata": {
        "id": "JSVOLjU3jeQV"
      }
    },
    {
      "cell_type": "markdown",
      "source": [
        "# CODIGOS DE LIMPIEZA\n",
        "RICARDO"
      ],
      "metadata": {
        "id": "IWrTCJMPjihn"
      }
    },
    {
      "cell_type": "code",
      "source": [
        "##RICARDO"
      ],
      "metadata": {
        "id": "S2MgBYdYjiho"
      },
      "execution_count": null,
      "outputs": []
    },
    {
      "cell_type": "code",
      "source": [
        "#import pandas as pd\n",
        "\n",
        "# Supongamos que ya cargaste tu DataFrame en 'df_principal'\n",
        "# df_principal = pd.read_csv('tu_archivo.csv')\n",
        "\n",
        "# Verificar la columna 'RFC_Aseg'\n",
        "df_principal['RFC_ASEG'] = df_principal['RFC_ASEG'].apply(\n",
        "    lambda rfc: rfc.strip().upper() if isinstance(rfc, str) and rfc.strip().isalnum() else None\n",
        ")\n",
        "\n",
        "# Mostrar algunas filas del DataFrame para verificar resultados\n",
        "print(\"Primeras filas después de la limpieza:\")\n",
        "print(df_principal.head())\n",
        "\n",
        "# Mostrar filas con errores\n",
        "errores = df_principal[df_principal['RFC_ASEG'].isnull()]\n",
        "if not errores.empty:\n",
        "    print(\"\\nFilas con errores:\")\n",
        "    print(errores)\n",
        "\n",
        "# Guardar el resultado en un archivo si lo necesitas\n",
        "#df_principal.to_csv('df_principal_limpio.csv', index=False)\n",
        "#print(\"\\nArchivo limpio guardado como 'df_principal_limpio.csv'\")\n"
      ],
      "metadata": {
        "colab": {
          "base_uri": "https://localhost:8080/"
        },
        "id": "sA4xbyjeoeu8",
        "outputId": "55228b6a-2684-4935-8d4f-e820d7d312e9"
      },
      "execution_count": null,
      "outputs": [
        {
          "output_type": "stream",
          "name": "stdout",
          "text": [
            "Primeras filas después de la limpieza:\n",
            "                                  ASEG              SERIE    TELEFONO  \\\n",
            "0              REY DAVID BELMAN LOZANO  9BWKL45U6RP023988  4444191129   \n",
            "1                  DAVILA MORENO CELSO  3G1TA5AF7HL120346  5560767580   \n",
            "2        GARCIA GONZALEZ JESUS EDUARDO  1C4GJ25R23B244434  4611366507   \n",
            "3  SD INDEVAL INSTITUCION PARA EL DEPO  JM3KKKHC2R1166032         NaN   \n",
            "4           MARIA SEDELIA VARGAS ROSAS  MB2C22AC8JM241475  7531117734   \n",
            "\n",
            "           DIR_ASEG_CALLE             COLONIA  \\\n",
            "0      CIRCUITO JACARANDA           EL ZAPOTE   \n",
            "1  1RA CDA FERROCARRIL 12  SAN JUAN TEMAMATLA   \n",
            "2    PROLONGACION CONSEJO             METEPEC   \n",
            "3     PASEO DE LA REFORMA          CUAUHTEMOC   \n",
            "4       LOC EL PUERTECITO           EL REPARO   \n",
            "\n",
            "                                   POBL            ESTADO       CP  \\\n",
            "0       035 SOLEDAD DE GRACIANO SANCHEZ   SAN LUIS POTOSI  78430.0   \n",
            "1                         083 TEMAMATLA  ESTADO DE MEXICO  56650.0   \n",
            "2                           019 ATLIXCO            PUEBLA  74360.0   \n",
            "3                        015 CUAUHTEMOC  CIUDAD DE MEXICO   6500.0   \n",
            "4  068 LA UNION DE ISIDORO MONTES DE OC          GUERRERO  40803.0   \n",
            "\n",
            "                           CORREO  \\\n",
            "0              SOPORTE@ODESSA.COM   \n",
            "1             CELSO0605@GMAIL.COM   \n",
            "2  JESUSEDUARDOGARCIA10@GMAIL.COM   \n",
            "3                               .   \n",
            "4                             NaN   \n",
            "\n",
            "                                              NOMBRE  ... NUM_INTERNO  \\\n",
            "0                                          REY DAVID  ...         NaN   \n",
            "1                                              CELSO  ...         NaN   \n",
            "2                                      JESUS EDUARDO  ...         NaN   \n",
            "3  SD INDEVAL INSTITUCION PARA EL DEPOSITO DE VALORE  ...         PIS   \n",
            "4                                      MARIA SEDELIA  ...         NaN   \n",
            "\n",
            "  NUM_EXTERNO       RFC_ASEG RFC_CONTRATANTE CP_CONTRATANTE DOMICILIO_FISCAL  \\\n",
            "0         216  BELR771229I82             NaN            NaN              NaN   \n",
            "1           .     DAMC560506             NaN            NaN              NaN   \n",
            "2           1     GAGJ721128             NaN            NaN              NaN   \n",
            "3         255   SDI870821SXA             NaN            NaN              NaN   \n",
            "4           1     VARS630604             NaN            NaN              NaN   \n",
            "\n",
            "   BENEF_PREFERENTE ASEGURADO TIPO_PERSONA  FEC_NACIMIENTO  \n",
            "0               NaN  29588257     1 Fisica        29/12/77  \n",
            "1               NaN  23005894     1 Fisica        06/05/56  \n",
            "2               NaN  26706560     1 Fisica        28/11/72  \n",
            "3               NaN  24785634      2 Moral        01/01/90  \n",
            "4               NaN  29853119     1 Fisica        04/06/63  \n",
            "\n",
            "[5 rows x 22 columns]\n",
            "\n",
            "Filas con errores:\n",
            "                                     ASEG              SERIE    TELEFONO  \\\n",
            "1007       BERNABE EDUARDO VILCHIS PORRAS  SADFL2FX6J1Z02573  6561225098   \n",
            "1975               LIZETTE BAUTISTA GOMEZ  1GNKR8KD1EJ212492  9999999999   \n",
            "2164            PERREAULT  ROBERT STEPHEN  JTJBT20X890174384         NaN   \n",
            "2165     AVALOS DELIA  AVALOS JOSE JAVIER  1FTEW1EF6HFA07387         NaN   \n",
            "3896                 STEVEN PRICE MICHAEL  1N6DD26S2WC371613  7551010784   \n",
            "...                                   ...                ...         ...   \n",
            "2372577                  BAJA FREIGHT LTD  3AKJHHDR0SSVP9249  8121883113   \n",
            "2372582               SOUTHERN STAR T LLC  1XKYDP9X9NJ459033         NaN   \n",
            "2372584               SOUTHERN STAR T LLC  1XKYDP9XXNJ459025         NaN   \n",
            "2372585               SOUTHERN STAR T LLC  1XKYDP9X2MJ441892         NaN   \n",
            "2373037                DETA LOGISTICS LLC  3AKJHHDR6JSJM3262         NaN   \n",
            "\n",
            "                                   DIR_ASEG_CALLE                  COLONIA  \\\n",
            "1007                            SAUL KLEINFELD DR                      NaN   \n",
            "1975                         AV INDUSTRIA MILITAR  COL RESIDENCIAL MILITAR   \n",
            "2164          206 22 STREET NW CALGARY AB T2N 4P1                  CALGARY   \n",
            "2165              810 BLUEBONNET LN KATY TX 77493                     KATY   \n",
            "3896                                DOM. CONOCIDO        PBO PANTLA CENTRO   \n",
            "...                                           ...                      ...   \n",
            "2372577              11 MUNICIPAL DRIVE SUITE 233                      NaN   \n",
            "2372582  7100 SAN BERNANRDO AVE SUITE 309 LAREDO                       NaN   \n",
            "2372584  7100 SAN BERNANRDO AVE SUITE 309 LAREDO                       NaN   \n",
            "2372585  7100 SAN BERNANRDO AVE SUITE 309 LAREDO                       NaN   \n",
            "2373037    410 CAMBRIDGE LOOP LAREDO TX (CP78045)                      NaN   \n",
            "\n",
            "                              POBL            ESTADO       CP  \\\n",
            "1007                 NORTE AMERICA            U.S.A.      1.0   \n",
            "1975            016 MIGUEL HIDALGO  CIUDAD DE MEXICO  11600.0   \n",
            "2164                                             NaN      0.0   \n",
            "2165                                             NaN  77493.0   \n",
            "3896     038 ZIHUATANEJO DE AZUETA          GUERRERO  40881.0   \n",
            "...                            ...               ...      ...   \n",
            "2372577              NORTE AMERICA            U.S.A.      1.0   \n",
            "2372582              NORTE AMERICA            U.S.A.      1.0   \n",
            "2372584              NORTE AMERICA            U.S.A.      1.0   \n",
            "2372585              NORTE AMERICA            U.S.A.      1.0   \n",
            "2373037              NORTE AMERICA            U.S.A.      1.0   \n",
            "\n",
            "                                 CORREO               NOMBRE  ... NUM_INTERNO  \\\n",
            "1007     CONSULTORIO.DRVILCHIS@YAHOO.CO      BERNABE EDUARDO  ...         100   \n",
            "1975                NOTIENE@HOTMAIL.COM              LIZETTE  ...         NaN   \n",
            "2164                                NaN       ROBERT STEPHEN  ...         NaN   \n",
            "2165                                NaN   AVALOS JOSE JAVIER  ...         NaN   \n",
            "3896                                  .               STEVEN  ...           .   \n",
            "...                                 ...                  ...  ...         ...   \n",
            "2372577  VICTOR.FERRIGNO@CHARGERLOGISTI     BAJA FREIGHT LTD  ...         NaN   \n",
            "2372582                             NaN  SOUTHERN STAR T LLC  ...         NaN   \n",
            "2372584                             NaN  SOUTHERN STAR T LLC  ...         NaN   \n",
            "2372585                             NaN  SOUTHERN STAR T LLC  ...         NaN   \n",
            "2373037                             NaN   DETA LOGISTICS LLC  ...         NaN   \n",
            "\n",
            "        NUM_EXTERNO RFC_ASEG RFC_CONTRATANTE CP_CONTRATANTE DOMICILIO_FISCAL  \\\n",
            "1007           2000     None             NaN            NaN              NaN   \n",
            "1975            S N     None             NaN            NaN              NaN   \n",
            "2164            NaN     None             NaN            NaN              NaN   \n",
            "2165            NaN     None             NaN            NaN              NaN   \n",
            "3896              .     None             NaN            NaN              NaN   \n",
            "...             ...      ...             ...            ...              ...   \n",
            "2372577           .     None             NaN            NaN              NaN   \n",
            "2372582          SN     None             NaN            NaN              NaN   \n",
            "2372584          SN     None             NaN            NaN              NaN   \n",
            "2372585          SN     None             NaN            NaN              NaN   \n",
            "2373037           .     None             NaN            NaN              NaN   \n",
            "\n",
            "         BENEF_PREFERENTE ASEGURADO TIPO_PERSONA  FEC_NACIMIENTO  \n",
            "1007                  NaN  31515621     1 Fisica        01/02/74  \n",
            "1975                  NaN  20417051     1 Fisica        01/01/00  \n",
            "2164                  NaN  31219898     01 Fisic        30/07/55  \n",
            "2165                  NaN  31367563     01 Fisic        12/10/74  \n",
            "3896                  NaN   9632114     1 Fisica        30/04/58  \n",
            "...                   ...       ...          ...             ...  \n",
            "2372577               NaN  29427632      2 Moral        01/01/90  \n",
            "2372582               NaN  28419307      2 Moral        01/01/90  \n",
            "2372584               NaN  28419307      2 Moral        01/01/90  \n",
            "2372585               NaN  28419307      2 Moral        01/01/90  \n",
            "2373037               NaN  27639803      2 Moral        01/01/90  \n",
            "\n",
            "[7287 rows x 22 columns]\n"
          ]
        }
      ]
    },
    {
      "cell_type": "markdown",
      "source": [
        "# CODIGOS DE LIMPIEZA\n",
        "YESS"
      ],
      "metadata": {
        "id": "5RPpv1pok0-v"
      }
    },
    {
      "cell_type": "code",
      "source": [
        "##YESS"
      ],
      "metadata": {
        "id": "VaJmgG2mk0-w"
      },
      "execution_count": null,
      "outputs": []
    },
    {
      "cell_type": "code",
      "source": [
        "##validacion CP_CONTRATANTE\n",
        "\n",
        "import re\n",
        "\n",
        "def validar_cp_cn(df_principal, columna='CP_CONTRATANTE'):\n",
        "    valores_invalidos = []\n",
        "\n",
        "    def es_valido(valor):\n",
        "        if pd.isna(valor):\n",
        "            valores_invalidos.append(\"NaN\")\n",
        "            return False\n",
        "        valor = str(valor).strip()\n",
        "        if re.fullmatch(r'^\\d{4,5}$', valor):  # Verificar que sea un número de 4 o 5 dígitos\n",
        "            return True\n",
        "        else:\n",
        "            valores_invalidos.append(valor)  # Agregar a los inválidos\n",
        "            return False\n",
        "\n",
        "    # Aplicar la validación\n",
        "    df_principal['es_valido'] = df_principal[columna].apply(es_valido)\n",
        "\n",
        "    # Filtrar los valores inválidos únicos\n",
        "    valores_invalidos_unicos = list(set(valores_invalidos))\n",
        "\n",
        "    # Mostrar resultados\n",
        "    print(f\"Total de valores inválidos: {len(valores_invalidos)}\")\n",
        "    print(\"Valores inválidos únicos encontrados:\")\n",
        "    for valor in valores_invalidos_unicos:\n",
        "        print(f\"- {valor}\")\n",
        "\n",
        "    # Retornar el DataFrame actualizado y los valores inválidos\n",
        "    return df_, valores_invalidos_unicos\n",
        "\n",
        "df_actualizado, valores_invalidos = validar_cp_cn(df, columna='cp_cn')\n"
      ],
      "metadata": {
        "id": "Q-sW1pBKlM2-"
      },
      "execution_count": null,
      "outputs": []
    },
    {
      "cell_type": "markdown",
      "source": [
        "# GUARDAR ARCHIVO MODIFICADO"
      ],
      "metadata": {
        "id": "c6nylPFRgHeO"
      }
    },
    {
      "cell_type": "code",
      "source": [
        "# Ruta para guardar el archivo consolidado\n",
        "output_csv_path = '/content/drive/My Drive/Qualitas/Dataset.csv'\n",
        "\n",
        "# Guardar el DataFrame final\n",
        "df_principal.to_csv(output_csv_path, index=False)\n",
        "\n",
        "print(f\"Archivo consolidado guardado en: {output_csv_path}\")\n"
      ],
      "metadata": {
        "id": "OHz6x01UgMn9",
        "colab": {
          "base_uri": "https://localhost:8080/"
        },
        "outputId": "f4d33f0e-839b-462b-870b-4eff917a1262"
      },
      "execution_count": null,
      "outputs": [
        {
          "output_type": "stream",
          "name": "stdout",
          "text": [
            "Archivo consolidado guardado en: /content/drive/My Drive/Qualitas/Dataset.csv\n"
          ]
        }
      ]
    }
  ]
}